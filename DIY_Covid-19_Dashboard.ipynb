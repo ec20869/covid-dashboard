{
 "cells": [
  {
   "cell_type": "markdown",
   "metadata": {},
   "source": [
    "# Covid-19 Dashboard"
   ]
  },
  {
   "cell_type": "markdown",
   "metadata": {},
   "source": [
    "_____________________________________________________________________"
   ]
  },
  {
   "cell_type": "markdown",
   "metadata": {},
   "source": [
    "This dashboard aims to showcase a survey on Covid-19 cases affecting the United Kingdom collected by Public Health England (PHE). The data used in the dashboard has been extrapolated from the official UK Government website for data and insights on Coronavirus (COVID-19).\n",
    "\n",
    "The purpose of this dashboard is to present an extract of the data surveyed on the case rate pertaining to gender and age, using the latest data available from PHE. The figures represent a sample of the data collected UK-wide and is viewed to be a general representation of the Covid-19 epidemic affecting the population of the United Kingdom. \n",
    "\n",
    "The data illustrated in this graph was collected during the period from January 2020 to November 2020.\n"
   ]
  },
  {
   "cell_type": "markdown",
   "metadata": {},
   "source": [
    "__________________________________________________________________________________________"
   ]
  },
  {
   "cell_type": "markdown",
   "metadata": {},
   "source": [
    "# Cases By Gender and Age Distribution - UK "
   ]
  },
  {
   "cell_type": "markdown",
   "metadata": {},
   "source": [
    "### Overview"
   ]
  },
  {
   "cell_type": "markdown",
   "metadata": {},
   "source": [
    "This graph presents a breakdown of Covid-19 cases in the United Kingdom by Gender and Age. \n",
    "\n",
    "The Gender category is defined by males and females in this survey. \n",
    "\n",
    "The Age distribution range is from nought to 90+ in this survey."
   ]
  },
  {
   "cell_type": "code",
   "execution_count": 1,
   "metadata": {},
   "outputs": [],
   "source": [
    "import ipywidgets as wdg\n",
    "import pandas as pd\n",
    "import numpy as np\n",
    "import matplotlib.pyplot as plt\n",
    "import json\n",
    "from uk_covid19 import Cov19API\n",
    "# Import all libraries in the first instance"
   ]
  },
  {
   "cell_type": "code",
   "execution_count": 2,
   "metadata": {},
   "outputs": [],
   "source": [
    "%matplotlib inline\n",
    "plt.rcParams['figure.dpi'] = 100\n",
    "# Mandatory for graphs"
   ]
  },
  {
   "cell_type": "code",
   "execution_count": 3,
   "metadata": {},
   "outputs": [],
   "source": [
    "with open(\"caseratebygender.json\", \"rt\") as INFILE:\n",
    "    data=json.load(INFILE)\n",
    "# Json file needs to be loaded    "
   ]
  },
  {
   "cell_type": "code",
   "execution_count": 4,
   "metadata": {},
   "outputs": [],
   "source": [
    "# this function wrangles the data into dataframe\n",
    "def wrangle_data(data):\n",
    "    datadic=data['data'][0] \n",
    "    \n",
    "    males=datadic['males']\n",
    "    females=datadic['females']\n",
    "    \n",
    "    ageranges=[x['age'] for x in males]\n",
    "    \n",
    "    def min_age(agerange):\n",
    "        agerange=agerange.replace('+', '')\n",
    "        start=agerange.split('_')[0]\n",
    "        return int(start)\n",
    "    \n",
    "    ageranges.sort(key=min_age)\n",
    "    caseratebygender_df=pd.DataFrame(index=ageranges, columns=['males', 'females', 'total'])\n",
    "\n",
    "    for entry in males:\n",
    "        ageband=entry['age']\n",
    "        caseratebygender_df.loc[ageband, 'males']=entry['value']\n",
    "    \n",
    "    for entry in females:\n",
    "        ageband=entry['age']\n",
    "        caseratebygender_df.loc[ageband, 'females']=entry['value']\n",
    "    \n",
    "    caseratebygender_df['total']=caseratebygender_df['males']+caseratebygender_df['females']    \n",
    "\n",
    "    return caseratebygender_df\n",
    "\n",
    "caseratebygender_df=wrangle_data(data)"
   ]
  },
  {
   "cell_type": "code",
   "execution_count": 5,
   "metadata": {},
   "outputs": [
    {
     "data": {
      "application/vnd.jupyter.widget-view+json": {
       "model_id": "74b025f7442a4429aa10bd8e6522e5e8",
       "version_major": 2,
       "version_minor": 0
      },
      "text/plain": [
       "SelectMultiple(description='Gender', index=(0, 1), options=('males', 'females', 'total'), rows=3, value=('male…"
      ]
     },
     "metadata": {},
     "output_type": "display_data"
    },
    {
     "data": {
      "application/vnd.jupyter.widget-view+json": {
       "model_id": "d7a8239eb304454c87da772c93adcc1c",
       "version_major": 2,
       "version_minor": 0
      },
      "text/plain": [
       "Output()"
      ]
     },
     "metadata": {},
     "output_type": "display_data"
    }
   ],
   "source": [
    "# this function plots and uses widget to design graph\n",
    "gendercols=wdg.SelectMultiple(\n",
    "    options=['males', 'females', 'total'],\n",
    "    value=['males', 'females'],\n",
    "    rows=3,\n",
    "    description='Gender',\n",
    "    disabled=False\n",
    ")\n",
    "\n",
    "def plot_gender_graph(graphcolumns):\n",
    "    ncols=len(graphcolumns)\n",
    "    if ncols>0:\n",
    "        caseratebygender_df.plot(kind='bar', y=list(graphcolumns))\n",
    "    else:\n",
    "        print(\"Click to select data for graph\")\n",
    "        print(\"(CTRL-Click to select more than one category)\")\n",
    "        \n",
    "output=wdg.interactive_output(plot_gender_graph, {'graphcolumns': gendercols})\n",
    "\n",
    "display(gendercols, output)\n",
    "\n",
    "# this function refreshes data in graph\n",
    "def refresh_graph():\n",
    "    current=gendercols.value\n",
    "    if current==gendercols.options[0]:\n",
    "        other=gendercols.options[1]\n",
    "    else:\n",
    "        other=gendercols.options[0]\n",
    "    gendercols.value=other\n",
    "    gendercols.value=current\n",
    "\n",
    "    \n",
    "graph=wdg.interactive_output(plot_gender_graph, {'graphcolumns': gendercols})\n",
    "\n",
    "#display(gendercols, graph)\n",
    "\n"
   ]
  },
  {
   "cell_type": "markdown",
   "metadata": {},
   "source": [
    "Please refresh the data to view the latest version of the graph."
   ]
  },
  {
   "cell_type": "code",
   "execution_count": 6,
   "metadata": {
    "scrolled": true
   },
   "outputs": [
    {
     "data": {
      "application/vnd.jupyter.widget-view+json": {
       "model_id": "0b92e86bc8a74d7b89f4cfd3f6011117",
       "version_major": 2,
       "version_minor": 0
      },
      "text/plain": [
       "Button(button_style='primary', description='Refresh data', icon='download', style=ButtonStyle(), tooltip='Clic…"
      ]
     },
     "metadata": {},
     "output_type": "display_data"
    }
   ],
   "source": [
    "# this function accesses api data\n",
    "def access_api():\n",
    "    filters = [\n",
    "    'areaType=nation',\n",
    "    'areaName=England'\n",
    "    ]\n",
    "\n",
    "    structure = {\n",
    "    \"males\": \"maleCases\",\n",
    "    \"females\": \"femaleCases\"\n",
    "    }\n",
    "    \n",
    "    api = Cov19API(filters=filters, structure=structure)\n",
    "    caseratebygender=api.get_json()\n",
    "    return caseratebygender\n",
    "\n",
    "# this widget displays the refresh data button\n",
    "apibutton=wdg.Button(\n",
    "    description='Refresh data',\n",
    "    disabled=False,\n",
    "    button_style='primary',\n",
    "    tooltip='Click to download current Public Health England data',\n",
    "    icon='download'\n",
    ") \n",
    "\n",
    "# this is the api data callback function\n",
    "def api_button_callback(button):\n",
    "    apidata=access_api()\n",
    "    global caseratebygender_df\n",
    "    caseratebygender_df=wrangle_data(data)\n",
    "    #refresh_graph()\n",
    "    apibutton.icon=\"check\"\n",
    "    \n",
    "apibutton.on_click(api_button_callback)\n",
    "\n",
    "display(apibutton)"
   ]
  },
  {
   "cell_type": "markdown",
   "metadata": {},
   "source": [
    "_______________________________________________________________________"
   ]
  },
  {
   "cell_type": "markdown",
   "metadata": {},
   "source": [
    "### Results"
   ]
  },
  {
   "cell_type": "markdown",
   "metadata": {},
   "source": [
    "The results displayed in the graph indicate a dispoportionately higher number of Covid-19 cases reported in females within the age bracket of 20-24yrs. \n",
    "\n",
    "Please note the results are indicative of the cases reported and registered with PHE during this specific time period."
   ]
  },
  {
   "cell_type": "markdown",
   "metadata": {},
   "source": [
    "__"
   ]
  },
  {
   "cell_type": "markdown",
   "metadata": {},
   "source": [
    "### Contact "
   ]
  },
  {
   "cell_type": "markdown",
   "metadata": {},
   "source": [
    "Thank you to Public Health England for making the data publically available. \n",
    "\n",
    "Please contact PHE for any queries concerning the data."
   ]
  },
  {
   "cell_type": "markdown",
   "metadata": {},
   "source": [
    "__"
   ]
  },
  {
   "cell_type": "markdown",
   "metadata": {},
   "source": [
    "**Author and Copyright Notice** (C) Christa Dobson, 2020 (ec20869@qmul.ac.uk). All rights reserved.: *Based on UK Government [data](https://coronavirus.data.gov.uk/) published by [Public Health England](https://www.gov.uk/government/organisations/public-health-england).*"
   ]
  },
  {
   "cell_type": "code",
   "execution_count": null,
   "metadata": {},
   "outputs": [],
   "source": []
  }
 ],
 "metadata": {
  "kernelspec": {
   "display_name": "Python 3",
   "language": "python",
   "name": "python3"
  },
  "language_info": {
   "codemirror_mode": {
    "name": "ipython",
    "version": 3
   },
   "file_extension": ".py",
   "mimetype": "text/x-python",
   "name": "python",
   "nbconvert_exporter": "python",
   "pygments_lexer": "ipython3",
   "version": "3.8.5"
  }
 },
 "nbformat": 4,
 "nbformat_minor": 4
}
